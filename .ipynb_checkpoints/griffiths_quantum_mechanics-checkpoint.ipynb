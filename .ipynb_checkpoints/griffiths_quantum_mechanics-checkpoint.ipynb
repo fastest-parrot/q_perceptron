{
 "cells": [
  {
   "cell_type": "code",
   "execution_count": 3,
   "metadata": {},
   "outputs": [],
   "source": [
    "from qutip import *\n",
    "import numpy as np\n",
    "import matplotlib.pyplot as plt\n",
    "import seaborn as sns\n",
    "import warnings\n",
    "import pandas as pd\n",
    "import sympy as sp"
   ]
  },
  {
   "cell_type": "markdown",
   "metadata": {},
   "source": [
    "## Appendix A"
   ]
  },
  {
   "cell_type": "markdown",
   "metadata": {},
   "source": [
    "### A.4\n",
    "\n",
    "Use Gram Schmidt Procedure to create an orthonormal basis for the following:\n",
    "\n",
    "$|e_{1}\\rangle=(1+i)\\hat{i} + (1)\\hat{j}+(i)\\hat{k}$\n",
    "\n",
    "$|e_{2}\\rangle=(i)\\hat{i} + (3)\\hat{j}+(1)\\hat{k}$\n",
    "\n",
    "$|e_{3}\\rangle=(0)\\hat{i} + (28)\\hat{j}+(0)\\hat{k}$\n",
    "\n",
    "Where\n",
    "\n",
    "$|e_{1}'\\rangle=\\frac{|e_{1}\\rangle}{||e_{1}||}$"
   ]
  },
  {
   "cell_type": "markdown",
   "metadata": {},
   "source": [
    "Step 1: calculate $||e_{1}||$\n",
    "\n",
    "$||e_{1}|| = \\langle{e_{1}}|{e_{1}}\\rangle$"
   ]
  },
  {
   "cell_type": "code",
   "execution_count": 163,
   "metadata": {},
   "outputs": [],
   "source": [
    "e_1 = Qobj([[complex(1, 1), complex(1, 0), complex(0, 1)]])\n",
    "e_2 = Qobj([[complex(0, 1), complex(3, 0), complex(1, 0)]])\n",
    "e_3 = Qobj([[complex(0, 0), complex(28, 0), complex(0, 0)]])"
   ]
  },
  {
   "cell_type": "code",
   "execution_count": 164,
   "metadata": {},
   "outputs": [],
   "source": [
    "norm = e_1.norm()"
   ]
  },
  {
   "cell_type": "code",
   "execution_count": 165,
   "metadata": {},
   "outputs": [
    {
     "data": {
      "text/plain": [
       "2.0"
      ]
     },
     "execution_count": 165,
     "metadata": {},
     "output_type": "execute_result"
    }
   ],
   "source": [
    "norm"
   ]
  },
  {
   "cell_type": "code",
   "execution_count": 215,
   "metadata": {},
   "outputs": [
    {
     "data": {
      "text/latex": [
       "Quantum object: dims = [[1], [1]], shape = (1, 1), type = bra\\begin{equation*}\\left(\\begin{array}{*{11}c}2.0\\\\\\end{array}\\right)\\end{equation*}"
      ],
      "text/plain": [
       "Quantum object: dims = [[1], [1]], shape = (1, 1), type = bra\n",
       "Qobj data =\n",
       "[[2.]]"
      ]
     },
     "execution_count": 215,
     "metadata": {},
     "output_type": "execute_result"
    }
   ],
   "source": [
    "#calculated directly\n",
    "(e_1.conj()*e_1.trans()).sqrtm()"
   ]
  },
  {
   "cell_type": "markdown",
   "metadata": {},
   "source": [
    "Calculate $|e_{1}'\\rangle$"
   ]
  },
  {
   "cell_type": "code",
   "execution_count": 166,
   "metadata": {},
   "outputs": [
    {
     "data": {
      "text/latex": [
       "Quantum object: dims = [[1], [3]], shape = (1, 3), type = bra\\begin{equation*}\\left(\\begin{array}{*{11}c}(0.500+0.500j) & 0.500 & 0.500j\\\\\\end{array}\\right)\\end{equation*}"
      ],
      "text/plain": [
       "Quantum object: dims = [[1], [3]], shape = (1, 3), type = bra\n",
       "Qobj data =\n",
       "[[0.5+0.5j 0.5+0.j  0. +0.5j]]"
      ]
     },
     "execution_count": 166,
     "metadata": {},
     "output_type": "execute_result"
    }
   ],
   "source": [
    "e1_prime = e_1/norm\n",
    "e1_prime"
   ]
  },
  {
   "cell_type": "markdown",
   "metadata": {},
   "source": [
    "Find $|e_{2}'\\rangle$\n",
    "\n",
    "Find a vector that is orthogonal to both \n",
    "\n",
    "$|e_{2}''\\rangle=|e_{2}\\rangle-\\langle{e_{1}'}|e_{2}\\rangle|e_{1}'\\rangle$"
   ]
  },
  {
   "cell_type": "markdown",
   "metadata": {},
   "source": [
    "- Since $|e_{1}'\\rangle$ is a row vector (bra), we need to take conjugate before multiplying.\n",
    "- Since $|e_{2}\\rangle$ is a row vector (bra), we need to transpose it to a column when appearing on the RHS of a bracket. "
   ]
  },
  {
   "cell_type": "code",
   "execution_count": 191,
   "metadata": {},
   "outputs": [
    {
     "data": {
      "text/latex": [
       "Quantum object: dims = [[1], [1]], shape = (1, 1), type = bra\\begin{equation*}\\left(\\begin{array}{*{11}c}2.0\\\\\\end{array}\\right)\\end{equation*}"
      ],
      "text/plain": [
       "Quantum object: dims = [[1], [1]], shape = (1, 1), type = bra\n",
       "Qobj data =\n",
       "[[2.]]"
      ]
     },
     "execution_count": 191,
     "metadata": {},
     "output_type": "execute_result"
    }
   ],
   "source": [
    "e1_prime.conj() *e_2.trans()"
   ]
  },
  {
   "cell_type": "code",
   "execution_count": 207,
   "metadata": {},
   "outputs": [],
   "source": [
    "e2_dbl_prime = e_2.trans() - e1_prime.conj() *e_2.trans() * e1_prime.trans()"
   ]
  },
  {
   "cell_type": "markdown",
   "metadata": {},
   "source": [
    "$\\langle{e_{2}}''|e_{2}''\\rangle$"
   ]
  },
  {
   "cell_type": "code",
   "execution_count": 208,
   "metadata": {},
   "outputs": [
    {
     "data": {
      "text/latex": [
       "Quantum object: dims = [[1], [1]], shape = (1, 1), type = bra\\begin{equation*}\\left(\\begin{array}{*{11}c}2.646\\\\\\end{array}\\right)\\end{equation*}"
      ],
      "text/plain": [
       "Quantum object: dims = [[1], [1]], shape = (1, 1), type = bra\n",
       "Qobj data =\n",
       "[[2.64575131]]"
      ]
     },
     "execution_count": 208,
     "metadata": {},
     "output_type": "execute_result"
    }
   ],
   "source": [
    "(e2_dbl_prime.dag() * e2_dbl_prime).sqrtm()"
   ]
  },
  {
   "cell_type": "code",
   "execution_count": 210,
   "metadata": {},
   "outputs": [],
   "source": [
    "e2_prime = e2_dbl_prime / ((e2_dbl_prime.dag() * e2_dbl_prime).sqrtm()).norm()"
   ]
  },
  {
   "cell_type": "code",
   "execution_count": 211,
   "metadata": {},
   "outputs": [
    {
     "data": {
      "text/latex": [
       "Quantum object: dims = [[3], [1]], shape = (3, 1), type = ket\\begin{equation*}\\left(\\begin{array}{*{11}c}-0.378\\\\0.756\\\\(0.378-0.378j)\\\\\\end{array}\\right)\\end{equation*}"
      ],
      "text/plain": [
       "Quantum object: dims = [[3], [1]], shape = (3, 1), type = ket\n",
       "Qobj data =\n",
       "[[-0.37796447+0.j        ]\n",
       " [ 0.75592895+0.j        ]\n",
       " [ 0.37796447-0.37796447j]]"
      ]
     },
     "execution_count": 211,
     "metadata": {},
     "output_type": "execute_result"
    }
   ],
   "source": [
    "e2_prime"
   ]
  },
  {
   "cell_type": "markdown",
   "metadata": {},
   "source": [
    "Find $|e_{3}'\\rangle$\n",
    "\n",
    "Find a vector that is orthogonal to both \n",
    "\n",
    "Subtract the projections of $|e_{3}\\rangle$ onto $|e_{1}'\\rangle$ and $|e_{2}'\\rangle$ from $|e_{3}\\rangle$\n",
    "\n",
    "$|e_{3}''\\rangle=|e_{3}\\rangle-\\langle{e_{1}}'|e_{3}\\rangle|e_{1}'\\rangle-\\langle{e_{2}}'|e_{3}\\rangle|e_{2}'\\rangle$"
   ]
  },
  {
   "cell_type": "code",
   "execution_count": 236,
   "metadata": {},
   "outputs": [],
   "source": [
    "e3_dbl_prime = e_3.trans()-e1_prime*e_3.trans()*e1_prime.trans()-e2_prime.trans() * e_3.trans()*e2_prime"
   ]
  },
  {
   "cell_type": "code",
   "execution_count": 237,
   "metadata": {},
   "outputs": [],
   "source": [
    "e3_prime = e3_dbl_prime / ((e3_dbl_prime.dag() * e3_dbl_prime).sqrtm()).norm()"
   ]
  },
  {
   "cell_type": "code",
   "execution_count": 238,
   "metadata": {},
   "outputs": [
    {
     "data": {
      "text/latex": [
       "Quantum object: dims = [[3], [1]], shape = (3, 1), type = ket\\begin{equation*}\\left(\\begin{array}{*{11}c}(0.085-0.592j)\\\\0.423\\\\(-0.676+0.085j)\\\\\\end{array}\\right)\\end{equation*}"
      ],
      "text/plain": [
       "Quantum object: dims = [[3], [1]], shape = (3, 1), type = ket\n",
       "Qobj data =\n",
       "[[ 0.08451543-0.59160798j]\n",
       " [ 0.42257713+0.j        ]\n",
       " [-0.6761234 +0.08451543j]]"
      ]
     },
     "execution_count": 238,
     "metadata": {},
     "output_type": "execute_result"
    }
   ],
   "source": [
    "e3_prime"
   ]
  },
  {
   "cell_type": "markdown",
   "metadata": {},
   "source": [
    "### A.8\n",
    "\n",
    "${A}=\\begin{pmatrix}\n",
    "-1 & 1 & i\\\\\n",
    "2 & 0 & 3\\\\\n",
    "2i & -2i & 2\n",
    "\\end{pmatrix}$\n",
    "\n",
    "${B}=\\begin{pmatrix}\n",
    "2 & 0 & -i\\\\\n",
    "0 & 1 & 0\\\\\n",
    "1 & 3 & 2\n",
    "\\end{pmatrix}$\n",
    "\n",
    "a) $A + B$"
   ]
  },
  {
   "cell_type": "code",
   "execution_count": 245,
   "metadata": {},
   "outputs": [
    {
     "data": {
      "text/latex": [
       "Quantum object: dims = [[3], [3]], shape = (3, 3), type = oper, isherm = False\\begin{equation*}\\left(\\begin{array}{*{11}c}-1.0 & 1.0 & 1.0j\\\\2.0 & 0.0 & 3.0\\\\2.0j & -2.0j & 2.0\\\\\\end{array}\\right)\\end{equation*}"
      ],
      "text/plain": [
       "Quantum object: dims = [[3], [3]], shape = (3, 3), type = oper, isherm = False\n",
       "Qobj data =\n",
       "[[-1.+0.j  1.+0.j  0.+1.j]\n",
       " [ 2.+0.j  0.+0.j  3.+0.j]\n",
       " [ 0.+2.j  0.-2.j  2.+0.j]]"
      ]
     },
     "execution_count": 245,
     "metadata": {},
     "output_type": "execute_result"
    }
   ],
   "source": [
    "A = Qobj([[complex(-1, 0), complex(1, 0),\n",
    "           complex(0, 1)], [complex(2, 0),\n",
    "                            complex(0, 0),\n",
    "                            complex(3, 0)],\n",
    "          [complex(0, 2), complex(0, -2),\n",
    "           complex(2, 0)]])\n",
    "A"
   ]
  },
  {
   "cell_type": "code",
   "execution_count": 265,
   "metadata": {},
   "outputs": [
    {
     "data": {
      "text/latex": [
       "Quantum object: dims = [[3], [3]], shape = (3, 3), type = oper, isherm = False\\begin{equation*}\\left(\\begin{array}{*{11}c}2.0 & 0.0 & -1.0j\\\\0.0 & 1.0 & 0.0\\\\1.0j & 3.0 & 2.0\\\\\\end{array}\\right)\\end{equation*}"
      ],
      "text/plain": [
       "Quantum object: dims = [[3], [3]], shape = (3, 3), type = oper, isherm = False\n",
       "Qobj data =\n",
       "[[2.+0.j 0.+0.j 0.-1.j]\n",
       " [0.+0.j 1.+0.j 0.+0.j]\n",
       " [0.+1.j 3.+0.j 2.+0.j]]"
      ]
     },
     "execution_count": 265,
     "metadata": {},
     "output_type": "execute_result"
    }
   ],
   "source": [
    "B = Qobj([[complex(2, 0), complex(0, 0),\n",
    "           complex(0, -1)], [complex(0, 0),\n",
    "                            complex(1, 0),\n",
    "                            complex(0, 0)],\n",
    "          [complex(0, 1), complex(3, 0),\n",
    "           complex(2, 0)]])\n",
    "B"
   ]
  },
  {
   "cell_type": "code",
   "execution_count": 266,
   "metadata": {},
   "outputs": [
    {
     "data": {
      "text/latex": [
       "Quantum object: dims = [[3], [3]], shape = (3, 3), type = oper, isherm = False\\begin{equation*}\\left(\\begin{array}{*{11}c}1.0 & 1.0 & 0.0\\\\2.0 & 1.0 & 3.0\\\\3.0j & (3.0-2.0j) & 4.0\\\\\\end{array}\\right)\\end{equation*}"
      ],
      "text/plain": [
       "Quantum object: dims = [[3], [3]], shape = (3, 3), type = oper, isherm = False\n",
       "Qobj data =\n",
       "[[1.+0.j 1.+0.j 0.+0.j]\n",
       " [2.+0.j 1.+0.j 3.+0.j]\n",
       " [0.+3.j 3.-2.j 4.+0.j]]"
      ]
     },
     "execution_count": 266,
     "metadata": {},
     "output_type": "execute_result"
    }
   ],
   "source": [
    "C = A + B\n",
    "C"
   ]
  },
  {
   "cell_type": "markdown",
   "metadata": {},
   "source": [
    "b) = $AB$"
   ]
  },
  {
   "cell_type": "code",
   "execution_count": 267,
   "metadata": {},
   "outputs": [
    {
     "data": {
      "text/latex": [
       "Quantum object: dims = [[3], [3]], shape = (3, 3), type = oper, isherm = False\\begin{equation*}\\left(\\begin{array}{*{11}c}-3.0 & (1.0+3.0j) & 3.0j\\\\(4.0+3.0j) & 9.0 & (6.0-2.0j)\\\\6.0j & (6.0-2.0j) & 6.0\\\\\\end{array}\\right)\\end{equation*}"
      ],
      "text/plain": [
       "Quantum object: dims = [[3], [3]], shape = (3, 3), type = oper, isherm = False\n",
       "Qobj data =\n",
       "[[-3.+0.j  1.+3.j  0.+3.j]\n",
       " [ 4.+3.j  9.+0.j  6.-2.j]\n",
       " [ 0.+6.j  6.-2.j  6.+0.j]]"
      ]
     },
     "execution_count": 267,
     "metadata": {},
     "output_type": "execute_result"
    }
   ],
   "source": [
    "A*B"
   ]
  },
  {
   "cell_type": "markdown",
   "metadata": {},
   "source": [
    "$BA$"
   ]
  },
  {
   "cell_type": "code",
   "execution_count": 268,
   "metadata": {},
   "outputs": [
    {
     "data": {
      "text/latex": [
       "Quantum object: dims = [[3], [3]], shape = (3, 3), type = oper, isherm = False\\begin{equation*}\\left(\\begin{array}{*{11}c}0.0 & 0.0 & 0.0\\\\2.0 & 0.0 & 3.0\\\\(6.0+3.0j) & -3.0j & 12.0\\\\\\end{array}\\right)\\end{equation*}"
      ],
      "text/plain": [
       "Quantum object: dims = [[3], [3]], shape = (3, 3), type = oper, isherm = False\n",
       "Qobj data =\n",
       "[[ 0.+0.j  0.+0.j  0.+0.j]\n",
       " [ 2.+0.j  0.+0.j  3.+0.j]\n",
       " [ 6.+3.j  0.-3.j 12.+0.j]]"
      ]
     },
     "execution_count": 268,
     "metadata": {},
     "output_type": "execute_result"
    }
   ],
   "source": [
    "B*A"
   ]
  },
  {
   "cell_type": "markdown",
   "metadata": {},
   "source": [
    "c) = $[A,B]$"
   ]
  },
  {
   "cell_type": "code",
   "execution_count": 269,
   "metadata": {},
   "outputs": [
    {
     "data": {
      "text/latex": [
       "Quantum object: dims = [[3], [3]], shape = (3, 3), type = oper, isherm = False\\begin{equation*}\\left(\\begin{array}{*{11}c}-3.0 & (1.0+3.0j) & 3.0j\\\\(2.0+3.0j) & 9.0 & (3.0-2.0j)\\\\(-6.0+3.0j) & (6.0+1.0j) & -6.0\\\\\\end{array}\\right)\\end{equation*}"
      ],
      "text/plain": [
       "Quantum object: dims = [[3], [3]], shape = (3, 3), type = oper, isherm = False\n",
       "Qobj data =\n",
       "[[-3.+0.j  1.+3.j  0.+3.j]\n",
       " [ 2.+3.j  9.+0.j  3.-2.j]\n",
       " [-6.+3.j  6.+1.j -6.+0.j]]"
      ]
     },
     "execution_count": 269,
     "metadata": {},
     "output_type": "execute_result"
    }
   ],
   "source": [
    "commutator(A,B)"
   ]
  },
  {
   "cell_type": "markdown",
   "metadata": {},
   "source": [
    "d) = $\\tilde{A}$"
   ]
  },
  {
   "cell_type": "code",
   "execution_count": 270,
   "metadata": {},
   "outputs": [
    {
     "data": {
      "text/latex": [
       "Quantum object: dims = [[3], [3]], shape = (3, 3), type = oper, isherm = False\\begin{equation*}\\left(\\begin{array}{*{11}c}-1.0 & 2.0 & 2.0j\\\\1.0 & 0.0 & -2.0j\\\\1.0j & 3.0 & 2.0\\\\\\end{array}\\right)\\end{equation*}"
      ],
      "text/plain": [
       "Quantum object: dims = [[3], [3]], shape = (3, 3), type = oper, isherm = False\n",
       "Qobj data =\n",
       "[[-1.+0.j  2.+0.j  0.+2.j]\n",
       " [ 1.+0.j  0.+0.j  0.-2.j]\n",
       " [ 0.+1.j  3.+0.j  2.+0.j]]"
      ]
     },
     "execution_count": 270,
     "metadata": {},
     "output_type": "execute_result"
    }
   ],
   "source": [
    "A.trans()"
   ]
  },
  {
   "cell_type": "markdown",
   "metadata": {},
   "source": [
    "e) = $A^{*}$"
   ]
  },
  {
   "cell_type": "code",
   "execution_count": 273,
   "metadata": {},
   "outputs": [
    {
     "data": {
      "text/latex": [
       "Quantum object: dims = [[3], [3]], shape = (3, 3), type = oper, isherm = False\\begin{equation*}\\left(\\begin{array}{*{11}c}-1.0 & 1.0 & -1.0j\\\\2.0 & 0.0 & 3.0\\\\-2.0j & 2.0j & 2.0\\\\\\end{array}\\right)\\end{equation*}"
      ],
      "text/plain": [
       "Quantum object: dims = [[3], [3]], shape = (3, 3), type = oper, isherm = False\n",
       "Qobj data =\n",
       "[[-1.+0.j  1.+0.j  0.-1.j]\n",
       " [ 2.+0.j  0.+0.j  3.+0.j]\n",
       " [ 0.-2.j  0.+2.j  2.+0.j]]"
      ]
     },
     "execution_count": 273,
     "metadata": {},
     "output_type": "execute_result"
    }
   ],
   "source": [
    "A.conj()"
   ]
  },
  {
   "cell_type": "markdown",
   "metadata": {},
   "source": [
    "f) = $A^{\\dagger}$"
   ]
  },
  {
   "cell_type": "code",
   "execution_count": 274,
   "metadata": {},
   "outputs": [
    {
     "data": {
      "text/latex": [
       "Quantum object: dims = [[3], [3]], shape = (3, 3), type = oper, isherm = False\\begin{equation*}\\left(\\begin{array}{*{11}c}-1.0 & 2.0 & -2.0j\\\\1.0 & 0.0 & 2.0j\\\\-1.0j & 3.0 & 2.0\\\\\\end{array}\\right)\\end{equation*}"
      ],
      "text/plain": [
       "Quantum object: dims = [[3], [3]], shape = (3, 3), type = oper, isherm = False\n",
       "Qobj data =\n",
       "[[-1.+0.j  2.+0.j  0.-2.j]\n",
       " [ 1.+0.j  0.+0.j  0.+2.j]\n",
       " [ 0.-1.j  3.+0.j  2.+0.j]]"
      ]
     },
     "execution_count": 274,
     "metadata": {},
     "output_type": "execute_result"
    }
   ],
   "source": [
    "A.dag()"
   ]
  },
  {
   "cell_type": "code",
   "execution_count": 275,
   "metadata": {},
   "outputs": [
    {
     "data": {
      "text/latex": [
       "Quantum object: dims = [[3], [3]], shape = (3, 3), type = oper, isherm = False\\begin{equation*}\\left(\\begin{array}{*{11}c}0.667 & -1.0j & 0.333j\\\\0.0 & 1.0 & 0.0\\\\-0.333j & -2.0 & 0.667\\\\\\end{array}\\right)\\end{equation*}"
      ],
      "text/plain": [
       "Quantum object: dims = [[3], [3]], shape = (3, 3), type = oper, isherm = False\n",
       "Qobj data =\n",
       "[[ 0.66666667+0.j          0.        -1.j          0.        +0.33333333j]\n",
       " [ 0.        +0.j          1.        +0.j          0.        +0.j        ]\n",
       " [ 0.        -0.33333333j -2.        +0.j          0.66666667+0.j        ]]"
      ]
     },
     "execution_count": 275,
     "metadata": {},
     "output_type": "execute_result"
    }
   ],
   "source": [
    "det"
   ]
  },
  {
   "cell_type": "code",
   "execution_count": null,
   "metadata": {},
   "outputs": [],
   "source": []
  }
 ],
 "metadata": {
  "author": "lde",
  "hide_input": false,
  "kernelspec": {
   "display_name": "Python 3",
   "language": "python",
   "name": "python3"
  },
  "language_info": {
   "codemirror_mode": {
    "name": "ipython",
    "version": 3
   },
   "file_extension": ".py",
   "mimetype": "text/x-python",
   "name": "python",
   "nbconvert_exporter": "python",
   "pygments_lexer": "ipython3",
   "version": "3.7.1"
  },
  "latex_envs": {
   "LaTeX_envs_menu_present": true,
   "autoclose": false,
   "autocomplete": true,
   "bibliofile": "biblio.bib",
   "cite_by": "apalike",
   "current_citInitial": 1,
   "eqLabelWithNumbers": true,
   "eqNumInitial": 1,
   "hotkeys": {
    "equation": "Ctrl-E",
    "itemize": "Ctrl-I"
   },
   "labels_anchors": false,
   "latex_user_defs": false,
   "report_style_numbering": false,
   "user_envs_cfg": false
  }
 },
 "nbformat": 4,
 "nbformat_minor": 4
}

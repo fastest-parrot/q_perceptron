{
 "cells": [
  {
   "cell_type": "code",
   "execution_count": 101,
   "metadata": {},
   "outputs": [],
   "source": [
    "from qutip import *\n",
    "import numpy as np\n",
    "import matplotlib.pyplot as plt\n",
    "import seaborn as sns\n",
    "import warnings\n",
    "warnings.filterwarnings(\"ignore\")"
   ]
  },
  {
   "cell_type": "markdown",
   "metadata": {},
   "source": [
    "### The Quantum Object \n"
   ]
  },
  {
   "cell_type": "markdown",
   "metadata": {},
   "source": [
    "### Bra-Ket Notation"
   ]
  },
  {
   "cell_type": "code",
   "execution_count": 102,
   "metadata": {},
   "outputs": [
    {
     "data": {
      "text/latex": [
       "Quantum object: dims = [[1], [1]], shape = (1, 1), type = bra\\begin{equation*}\\left(\\begin{array}{*{11}c}0.0\\\\\\end{array}\\right)\\end{equation*}"
      ],
      "text/plain": [
       "Quantum object: dims = [[1], [1]], shape = (1, 1), type = bra\n",
       "Qobj data =\n",
       "[[0.]]"
      ]
     },
     "execution_count": 102,
     "metadata": {},
     "output_type": "execute_result"
    }
   ],
   "source": [
    "Qobj()"
   ]
  },
  {
   "cell_type": "markdown",
   "metadata": {},
   "source": [
    "The base quantum object is a **bra** vector denoted by $\\langle \\psi|$\n",
    "\n",
    "This is the equivalent of a 1x1 matrix with zero as the only entry.\n",
    "\n",
    "Creating a bra vector with data using list comp:"
   ]
  },
  {
   "cell_type": "code",
   "execution_count": 103,
   "metadata": {},
   "outputs": [
    {
     "data": {
      "text/latex": [
       "Quantum object: dims = [[1], [5]], shape = (1, 5), type = bra\\begin{equation*}\\left(\\begin{array}{*{11}c}0.0 & 1.0 & 2.0 & 3.0 & 4.0\\\\\\end{array}\\right)\\end{equation*}"
      ],
      "text/plain": [
       "Quantum object: dims = [[1], [5]], shape = (1, 5), type = bra\n",
       "Qobj data =\n",
       "[[0. 1. 2. 3. 4.]]"
      ]
     },
     "execution_count": 103,
     "metadata": {},
     "output_type": "execute_result"
    }
   ],
   "source": [
    "Qobj([[x for x in range(5)]])"
   ]
  },
  {
   "cell_type": "code",
   "execution_count": 104,
   "metadata": {},
   "outputs": [
    {
     "data": {
      "text/latex": [
       "Quantum object: dims = [[5], [1]], shape = (5, 1), type = ket\\begin{equation*}\\left(\\begin{array}{*{11}c}0.0\\\\1.0\\\\2.0\\\\3.0\\\\4.0\\\\\\end{array}\\right)\\end{equation*}"
      ],
      "text/plain": [
       "Quantum object: dims = [[5], [1]], shape = (5, 1), type = ket\n",
       "Qobj data =\n",
       "[[0.]\n",
       " [1.]\n",
       " [2.]\n",
       " [3.]\n",
       " [4.]]"
      ]
     },
     "execution_count": 104,
     "metadata": {},
     "output_type": "execute_result"
    }
   ],
   "source": [
    "Qobj([[x] for x in range(5)])"
   ]
  },
  {
   "cell_type": "markdown",
   "metadata": {},
   "source": [
    "A **ket** vector, represented by $|\\psi\\rangle$ is the equivalent of a column vector. In this notation, we have created a 1x5 column vector."
   ]
  },
  {
   "cell_type": "markdown",
   "metadata": {},
   "source": [
    "- qtip rundown\n",
    "\n",
    "- Bra / Ket notation\n",
    "\n",
    "- Commutators\n",
    "\n",
    "- Spin\n",
    "\n",
    "- tunneling\n",
    "\n",
    "- Hilbert Space\n",
    "\n",
    "- Back prop parameters\n"
   ]
  },
  {
   "cell_type": "markdown",
   "metadata": {},
   "source": [
    "A random vector, really an **operator**"
   ]
  },
  {
   "cell_type": "code",
   "execution_count": 105,
   "metadata": {},
   "outputs": [
    {
     "data": {
      "text/plain": [
       "array([[0.41079389, 0.57163363, 0.20873792, 0.98767975],\n",
       "       [0.26628069, 0.86483928, 0.88485525, 0.76909219],\n",
       "       [0.22591401, 0.78331062, 0.0265654 , 0.87550514],\n",
       "       [0.33201357, 0.55049011, 0.79110036, 0.08709268]])"
      ]
     },
     "execution_count": 105,
     "metadata": {},
     "output_type": "execute_result"
    }
   ],
   "source": [
    "r = np.random.rand(4,4)\n",
    "r"
   ]
  },
  {
   "cell_type": "code",
   "execution_count": 106,
   "metadata": {},
   "outputs": [
    {
     "data": {
      "text/latex": [
       "Quantum object: dims = [[4], [4]], shape = (4, 4), type = oper, isherm = False\\begin{equation*}\\left(\\begin{array}{*{11}c}0.411 & 0.572 & 0.209 & 0.988\\\\0.266 & 0.865 & 0.885 & 0.769\\\\0.226 & 0.783 & 0.027 & 0.876\\\\0.332 & 0.550 & 0.791 & 0.087\\\\\\end{array}\\right)\\end{equation*}"
      ],
      "text/plain": [
       "Quantum object: dims = [[4], [4]], shape = (4, 4), type = oper, isherm = False\n",
       "Qobj data =\n",
       "[[0.41079389 0.57163363 0.20873792 0.98767975]\n",
       " [0.26628069 0.86483928 0.88485525 0.76909219]\n",
       " [0.22591401 0.78331062 0.0265654  0.87550514]\n",
       " [0.33201357 0.55049011 0.79110036 0.08709268]]"
      ]
     },
     "execution_count": 106,
     "metadata": {},
     "output_type": "execute_result"
    }
   ],
   "source": [
    "Qobj(r)"
   ]
  },
  {
   "cell_type": "markdown",
   "metadata": {},
   "source": [
    "### Creating a Hilbert Space"
   ]
  },
  {
   "cell_type": "markdown",
   "metadata": {},
   "source": [
    "### fock state operator\n",
    "\n",
    "- The equivalent of a particle selector operator $\\hat{N}_{k}$ where $\\sum_{i}\\hat{N}_{k_{i}}$ = $\\hat{N}$ (the total number of particles in a system)."
   ]
  },
  {
   "cell_type": "code",
   "execution_count": 107,
   "metadata": {},
   "outputs": [
    {
     "data": {
      "text/latex": [
       "Quantum object: dims = [[10], [1]], shape = (10, 1), type = ket\\begin{equation*}\\left(\\begin{array}{*{11}c}0.0\\\\0.0\\\\0.0\\\\1.0\\\\0.0\\\\0.0\\\\0.0\\\\0.0\\\\0.0\\\\0.0\\\\\\end{array}\\right)\\end{equation*}"
      ],
      "text/plain": [
       "Quantum object: dims = [[10], [1]], shape = (10, 1), type = ket\n",
       "Qobj data =\n",
       "[[0.]\n",
       " [0.]\n",
       " [0.]\n",
       " [1.]\n",
       " [0.]\n",
       " [0.]\n",
       " [0.]\n",
       " [0.]\n",
       " [0.]\n",
       " [0.]]"
      ]
     },
     "execution_count": 107,
     "metadata": {},
     "output_type": "execute_result"
    }
   ],
   "source": [
    "basis(10, 3)"
   ]
  },
  {
   "cell_type": "markdown",
   "metadata": {},
   "source": [
    "In multi-dimensional space:"
   ]
  },
  {
   "cell_type": "code",
   "execution_count": 108,
   "metadata": {},
   "outputs": [
    {
     "data": {
      "text/latex": [
       "Quantum object: dims = [[10], [10]], shape = (10, 10), type = oper, isherm = True\\begin{equation*}\\left(\\begin{array}{*{11}c}0.0 & 0.0 & 0.0 & 0.0 & 0.0 & 0.0 & 0.0 & 0.0 & 0.0 & 0.0\\\\0.0 & 0.0 & 0.0 & 0.0 & 0.0 & 0.0 & 0.0 & 0.0 & 0.0 & 0.0\\\\0.0 & 0.0 & 0.0 & 0.0 & 0.0 & 0.0 & 0.0 & 0.0 & 0.0 & 0.0\\\\0.0 & 0.0 & 0.0 & 1.0 & 0.0 & 0.0 & 0.0 & 0.0 & 0.0 & 0.0\\\\0.0 & 0.0 & 0.0 & 0.0 & 0.0 & 0.0 & 0.0 & 0.0 & 0.0 & 0.0\\\\0.0 & 0.0 & 0.0 & 0.0 & 0.0 & 0.0 & 0.0 & 0.0 & 0.0 & 0.0\\\\0.0 & 0.0 & 0.0 & 0.0 & 0.0 & 0.0 & 0.0 & 0.0 & 0.0 & 0.0\\\\0.0 & 0.0 & 0.0 & 0.0 & 0.0 & 0.0 & 0.0 & 0.0 & 0.0 & 0.0\\\\0.0 & 0.0 & 0.0 & 0.0 & 0.0 & 0.0 & 0.0 & 0.0 & 0.0 & 0.0\\\\0.0 & 0.0 & 0.0 & 0.0 & 0.0 & 0.0 & 0.0 & 0.0 & 0.0 & 0.0\\\\\\end{array}\\right)\\end{equation*}"
      ],
      "text/plain": [
       "Quantum object: dims = [[10], [10]], shape = (10, 10), type = oper, isherm = True\n",
       "Qobj data =\n",
       "[[0. 0. 0. 0. 0. 0. 0. 0. 0. 0.]\n",
       " [0. 0. 0. 0. 0. 0. 0. 0. 0. 0.]\n",
       " [0. 0. 0. 0. 0. 0. 0. 0. 0. 0.]\n",
       " [0. 0. 0. 1. 0. 0. 0. 0. 0. 0.]\n",
       " [0. 0. 0. 0. 0. 0. 0. 0. 0. 0.]\n",
       " [0. 0. 0. 0. 0. 0. 0. 0. 0. 0.]\n",
       " [0. 0. 0. 0. 0. 0. 0. 0. 0. 0.]\n",
       " [0. 0. 0. 0. 0. 0. 0. 0. 0. 0.]\n",
       " [0. 0. 0. 0. 0. 0. 0. 0. 0. 0.]\n",
       " [0. 0. 0. 0. 0. 0. 0. 0. 0. 0.]]"
      ]
     },
     "execution_count": 108,
     "metadata": {},
     "output_type": "execute_result"
    }
   ],
   "source": [
    "fock_dm(10, 3)"
   ]
  },
  {
   "cell_type": "markdown",
   "metadata": {},
   "source": [
    "### Operator Example\n",
    "\n",
    "***Destruction Operator***\n",
    "\n",
    "The lowering operator, removes elements of a matrix below a particular ground state. It is particularly useful for the case of the Quantum Harmonic Oscillator."
   ]
  },
  {
   "cell_type": "code",
   "execution_count": 109,
   "metadata": {},
   "outputs": [],
   "source": [
    "d = destroy(4)"
   ]
  },
  {
   "cell_type": "code",
   "execution_count": 110,
   "metadata": {},
   "outputs": [
    {
     "data": {
      "text/plain": [
       "<4x4 sparse matrix of type '<class 'numpy.complex128'>'\n",
       "\twith 3 stored elements in Compressed Sparse Row format>"
      ]
     },
     "execution_count": 110,
     "metadata": {},
     "output_type": "execute_result"
    }
   ],
   "source": [
    "d.data"
   ]
  },
  {
   "cell_type": "markdown",
   "metadata": {},
   "source": [
    "***Sparse matrices are the default storage type***"
   ]
  },
  {
   "cell_type": "code",
   "execution_count": 111,
   "metadata": {},
   "outputs": [
    {
     "data": {
      "text/latex": [
       "Quantum object: dims = [[4], [4]], shape = (4, 4), type = oper, isherm = False\\begin{equation*}\\left(\\begin{array}{*{11}c}0.0 & 1.0 & 0.0 & 0.0\\\\0.0 & 0.0 & 1.414 & 0.0\\\\0.0 & 0.0 & 0.0 & 1.732\\\\0.0 & 0.0 & 0.0 & 0.0\\\\\\end{array}\\right)\\end{equation*}"
      ],
      "text/plain": [
       "Quantum object: dims = [[4], [4]], shape = (4, 4), type = oper, isherm = False\n",
       "Qobj data =\n",
       "[[0.         1.         0.         0.        ]\n",
       " [0.         0.         1.41421356 0.        ]\n",
       " [0.         0.         0.         1.73205081]\n",
       " [0.         0.         0.         0.        ]]"
      ]
     },
     "execution_count": 111,
     "metadata": {},
     "output_type": "execute_result"
    }
   ],
   "source": [
    "d"
   ]
  },
  {
   "cell_type": "markdown",
   "metadata": {},
   "source": [
    "### Matrix Mathematics \n",
    "\n",
    "- Adding constants"
   ]
  },
  {
   "cell_type": "code",
   "execution_count": 112,
   "metadata": {},
   "outputs": [
    {
     "data": {
      "text/latex": [
       "Quantum object: dims = [[4], [4]], shape = (4, 4), type = oper, isherm = False\\begin{equation*}\\left(\\begin{array}{*{11}c}5.0 & 1.0 & 0.0 & 0.0\\\\0.0 & 5.0 & 1.414 & 0.0\\\\0.0 & 0.0 & 5.0 & 1.732\\\\0.0 & 0.0 & 0.0 & 5.0\\\\\\end{array}\\right)\\end{equation*}"
      ],
      "text/plain": [
       "Quantum object: dims = [[4], [4]], shape = (4, 4), type = oper, isherm = False\n",
       "Qobj data =\n",
       "[[5.         1.         0.         0.        ]\n",
       " [0.         5.         1.41421356 0.        ]\n",
       " [0.         0.         5.         1.73205081]\n",
       " [0.         0.         0.         5.        ]]"
      ]
     },
     "execution_count": 112,
     "metadata": {},
     "output_type": "execute_result"
    }
   ],
   "source": [
    "d + 5"
   ]
  },
  {
   "cell_type": "markdown",
   "metadata": {},
   "source": [
    "adding or subtracting a constant *a* is the equivalent of adding/subtracting $a\\hat{I}$ where $\\hat{I}$ is the identity matrix."
   ]
  },
  {
   "cell_type": "markdown",
   "metadata": {},
   "source": [
    "- Multiplication follows the normal definition of the inner (dot) product"
   ]
  },
  {
   "cell_type": "code",
   "execution_count": 113,
   "metadata": {},
   "outputs": [],
   "source": [
    "spin_operator = sigmax()"
   ]
  },
  {
   "cell_type": "code",
   "execution_count": 114,
   "metadata": {},
   "outputs": [
    {
     "data": {
      "text/latex": [
       "Quantum object: dims = [[2], [2]], shape = (2, 2), type = oper, isherm = True\\begin{equation*}\\left(\\begin{array}{*{11}c}0.0 & 1.0\\\\1.0 & 0.0\\\\\\end{array}\\right)\\end{equation*}"
      ],
      "text/plain": [
       "Quantum object: dims = [[2], [2]], shape = (2, 2), type = oper, isherm = True\n",
       "Qobj data =\n",
       "[[0. 1.]\n",
       " [1. 0.]]"
      ]
     },
     "execution_count": 114,
     "metadata": {},
     "output_type": "execute_result"
    }
   ],
   "source": [
    "spin_operator"
   ]
  },
  {
   "cell_type": "code",
   "execution_count": 115,
   "metadata": {},
   "outputs": [
    {
     "data": {
      "text/latex": [
       "Quantum object: dims = [[2], [2]], shape = (2, 2), type = oper, isherm = True\\begin{equation*}\\left(\\begin{array}{*{11}c}1.0 & 0.0\\\\0.0 & 1.0\\\\\\end{array}\\right)\\end{equation*}"
      ],
      "text/plain": [
       "Quantum object: dims = [[2], [2]], shape = (2, 2), type = oper, isherm = True\n",
       "Qobj data =\n",
       "[[1. 0.]\n",
       " [0. 1.]]"
      ]
     },
     "execution_count": 115,
     "metadata": {},
     "output_type": "execute_result"
    }
   ],
   "source": [
    "spin_operator * spin_operator"
   ]
  },
  {
   "cell_type": "markdown",
   "metadata": {},
   "source": [
    "In Bra-Ket notation the inner product is simplified:\n",
    "\n",
    "$$\\langle\\psi_{a} | \\psi_{b}\\rangle$$\n",
    "\n",
    "Represents the inner product of two vectors, a **bra** on the left and a **ket** on the right."
   ]
  },
  {
   "cell_type": "markdown",
   "metadata": {},
   "source": [
    "- Chained dot product"
   ]
  },
  {
   "cell_type": "code",
   "execution_count": 116,
   "metadata": {},
   "outputs": [
    {
     "data": {
      "text/latex": [
       "Quantum object: dims = [[4], [4]], shape = (4, 4), type = oper, isherm = False\\begin{equation*}\\left(\\begin{array}{*{11}c}0.0 & 0.0 & 0.0 & 2.449\\\\0.0 & 0.0 & 0.0 & 0.0\\\\0.0 & 0.0 & 0.0 & 0.0\\\\0.0 & 0.0 & 0.0 & 0.0\\\\\\end{array}\\right)\\end{equation*}"
      ],
      "text/plain": [
       "Quantum object: dims = [[4], [4]], shape = (4, 4), type = oper, isherm = False\n",
       "Qobj data =\n",
       "[[0.         0.         0.         2.44948974]\n",
       " [0.         0.         0.         0.        ]\n",
       " [0.         0.         0.         0.        ]\n",
       " [0.         0.         0.         0.        ]]"
      ]
     },
     "execution_count": 116,
     "metadata": {},
     "output_type": "execute_result"
    }
   ],
   "source": [
    "d ** 3"
   ]
  },
  {
   "cell_type": "markdown",
   "metadata": {},
   "source": [
    "Is the equivalent of:"
   ]
  },
  {
   "cell_type": "code",
   "execution_count": 117,
   "metadata": {},
   "outputs": [
    {
     "data": {
      "text/latex": [
       "Quantum object: dims = [[4], [4]], shape = (4, 4), type = oper, isherm = False\\begin{equation*}\\left(\\begin{array}{*{11}c}0.0 & 0.0 & 0.0 & 2.449\\\\0.0 & 0.0 & 0.0 & 0.0\\\\0.0 & 0.0 & 0.0 & 0.0\\\\0.0 & 0.0 & 0.0 & 0.0\\\\\\end{array}\\right)\\end{equation*}"
      ],
      "text/plain": [
       "Quantum object: dims = [[4], [4]], shape = (4, 4), type = oper, isherm = False\n",
       "Qobj data =\n",
       "[[0.         0.         0.         2.44948974]\n",
       " [0.         0.         0.         0.        ]\n",
       " [0.         0.         0.         0.        ]\n",
       " [0.         0.         0.         0.        ]]"
      ]
     },
     "execution_count": 117,
     "metadata": {},
     "output_type": "execute_result"
    }
   ],
   "source": [
    "d * d * d"
   ]
  },
  {
   "cell_type": "markdown",
   "metadata": {},
   "source": [
    "### Operations on Quantum Objects"
   ]
  },
  {
   "cell_type": "markdown",
   "metadata": {},
   "source": [
    "Support exists for a variety of handy linear algebra functions such as eigenvalues, eigenvectors, diagonals, traces, hermitian conjugation etc."
   ]
  },
  {
   "cell_type": "code",
   "execution_count": 118,
   "metadata": {},
   "outputs": [
    {
     "data": {
      "text/latex": [
       "Quantum object: dims = [[8], [1]], shape = (8, 1), type = ket\\begin{equation*}\\left(\\begin{array}{*{11}c}0.0\\\\1.0\\\\0.0\\\\0.0\\\\0.0\\\\0.0\\\\0.0\\\\0.0\\\\\\end{array}\\right)\\end{equation*}"
      ],
      "text/plain": [
       "Quantum object: dims = [[8], [1]], shape = (8, 1), type = ket\n",
       "Qobj data =\n",
       "[[0.]\n",
       " [1.]\n",
       " [0.]\n",
       " [0.]\n",
       " [0.]\n",
       " [0.]\n",
       " [0.]\n",
       " [0.]]"
      ]
     },
     "execution_count": 118,
     "metadata": {},
     "output_type": "execute_result"
    }
   ],
   "source": [
    "space = basis(8, 1)\n",
    "space"
   ]
  },
  {
   "cell_type": "markdown",
   "metadata": {},
   "source": [
    "The adjoint operator $\\dagger\\$, often referred to as the **dagger** operator takes the transpose of a matrix."
   ]
  },
  {
   "cell_type": "code",
   "execution_count": 119,
   "metadata": {},
   "outputs": [
    {
     "data": {
      "text/latex": [
       "Quantum object: dims = [[1], [8]], shape = (1, 8), type = bra\\begin{equation*}\\left(\\begin{array}{*{11}c}0.0 & 1.0 & 0.0 & 0.0 & 0.0 & 0.0 & 0.0 & 0.0\\\\\\end{array}\\right)\\end{equation*}"
      ],
      "text/plain": [
       "Quantum object: dims = [[1], [8]], shape = (1, 8), type = bra\n",
       "Qobj data =\n",
       "[[0. 1. 0. 0. 0. 0. 0. 0.]]"
      ]
     },
     "execution_count": 119,
     "metadata": {},
     "output_type": "execute_result"
    }
   ],
   "source": [
    "space.dag()"
   ]
  },
  {
   "cell_type": "markdown",
   "metadata": {},
   "source": [
    "- Diagonals"
   ]
  },
  {
   "cell_type": "code",
   "execution_count": 120,
   "metadata": {},
   "outputs": [
    {
     "data": {
      "text/latex": [
       "Quantum object: dims = [[5], [5]], shape = (5, 5), type = oper, isherm = True\\begin{equation*}\\left(\\begin{array}{*{11}c}0.368 & 0.368 & 0.261 & 0.146 & 0.088\\\\0.368 & 0.368 & 0.261 & 0.146 & 0.088\\\\0.261 & 0.261 & 0.185 & 0.104 & 0.063\\\\0.146 & 0.146 & 0.104 & 0.058 & 0.035\\\\0.088 & 0.088 & 0.063 & 0.035 & 0.021\\\\\\end{array}\\right)\\end{equation*}"
      ],
      "text/plain": [
       "Quantum object: dims = [[5], [5]], shape = (5, 5), type = oper, isherm = True\n",
       "Qobj data =\n",
       "[[0.36791117 0.36774407 0.26105441 0.14620658 0.08826704]\n",
       " [0.36774407 0.36757705 0.26093584 0.14614018 0.08822695]\n",
       " [0.26105441 0.26093584 0.18523331 0.10374209 0.06263061]\n",
       " [0.14620658 0.14614018 0.10374209 0.05810197 0.035077  ]\n",
       " [0.08826704 0.08822695 0.06263061 0.035077   0.0211765 ]]"
      ]
     },
     "execution_count": 120,
     "metadata": {},
     "output_type": "execute_result"
    }
   ],
   "source": [
    "coherent_density_matrix = coherent_dm(5,1)\n",
    "coherent_density_matrix"
   ]
  },
  {
   "cell_type": "code",
   "execution_count": 121,
   "metadata": {},
   "outputs": [
    {
     "data": {
      "text/plain": [
       "array([0.36791117, 0.36757705, 0.18523331, 0.05810197, 0.0211765 ])"
      ]
     },
     "execution_count": 121,
     "metadata": {},
     "output_type": "execute_result"
    }
   ],
   "source": [
    "coherent_density_matrix.diag()"
   ]
  },
  {
   "cell_type": "markdown",
   "metadata": {},
   "source": [
    "- Ladder op example"
   ]
  },
  {
   "cell_type": "markdown",
   "metadata": {},
   "source": [
    "#### Distance metrics for determining how close to density matrix distributions are to each other\n",
    "\n",
    "- Trace Distance\n",
    "\n",
    "- fidelity\n",
    "\n",
    "- Hilbert-Schmidt distance\n",
    "\n",
    "- Bures-distance\n",
    "\n",
    "- Bures angle\n",
    "\n",
    "- Hellinger distance\n",
    "\n",
    "***Comparisons of train/test splits for distributions?***"
   ]
  },
  {
   "cell_type": "markdown",
   "metadata": {},
   "source": [
    "### Quantum Mechanics:\n",
    "\n",
    "Easy stuff first! \n",
    "\n",
    "#### The Time Dependent Schroedinger Equation:\n",
    "\n",
    "$$i\\hbar \\frac{\\partial \\Psi}{\\partial t} = -\\frac{\\hbar^2}{2m}\n",
    "\\frac{\\partial^2 \\Psi}{\\partial x^2} + V \\Psi$$"
   ]
  },
  {
   "cell_type": "markdown",
   "metadata": {},
   "source": [
    "This equation is a PDE, where the wavefunction $\\Psi(\\hat{r}, t)$ is function of both position and time. \n",
    "\n",
    "The Hamiltonian operator $\\hat{H}$ represents the classical total energy of a quantum system (Kinetic + Potential).\n",
    "\n",
    "In operator form:\n",
    "\n",
    "$$\\hat{H}\\Psi=E\\ \\Psi$$"
   ]
  },
  {
   "cell_type": "markdown",
   "metadata": {},
   "source": [
    "By assuming that the wave function can be expressed as the product of two functions, $\\psi(\\hat{r})$ and $\\phi(t)$, separation of variables can be employed and the separation constant C of the time independent equition represents the allowed energies (eigenenergies) of the operator $\\hat{H}$.\n",
    "\n",
    "It is often favorable to represent the operator $\\hat{H}$ in terms of its **eigenvectors** where the resultant matrix consists of all off-diagonal elements equal to zero and the diagonal formed by the eigenenergies.\n",
    "\n",
    "Let's build a simple neural net from scratch with a relu activation function."
   ]
  },
  {
   "cell_type": "code",
   "execution_count": 122,
   "metadata": {},
   "outputs": [
    {
     "data": {
      "text/latex": [
       "Quantum object: dims = [[4], [2]], shape = (4, 2), type = oper, isherm = False\\begin{equation*}\\left(\\begin{array}{*{11}c}0.0 & 0.0\\\\0.0 & 1.0\\\\1.0 & 0.0\\\\1.0 & 1.0\\\\\\end{array}\\right)\\end{equation*}"
      ],
      "text/plain": [
       "Quantum object: dims = [[4], [2]], shape = (4, 2), type = oper, isherm = False\n",
       "Qobj data =\n",
       "[[0. 0.]\n",
       " [0. 1.]\n",
       " [1. 0.]\n",
       " [1. 1.]]"
      ]
     },
     "execution_count": 122,
     "metadata": {},
     "output_type": "execute_result"
    }
   ],
   "source": [
    "data = np.array([[0,0], [0,1], [1,0], [1,1]])\n",
    "Qobj(data)"
   ]
  },
  {
   "cell_type": "code",
   "execution_count": 123,
   "metadata": {},
   "outputs": [
    {
     "data": {
      "text/latex": [
       "Quantum object: dims = [[4], [1]], shape = (4, 1), type = ket\\begin{equation*}\\left(\\begin{array}{*{11}c}0.0\\\\1.0\\\\1.0\\\\1.0\\\\\\end{array}\\right)\\end{equation*}"
      ],
      "text/plain": [
       "Quantum object: dims = [[4], [1]], shape = (4, 1), type = ket\n",
       "Qobj data =\n",
       "[[0.]\n",
       " [1.]\n",
       " [1.]\n",
       " [1.]]"
      ]
     },
     "execution_count": 123,
     "metadata": {},
     "output_type": "execute_result"
    }
   ],
   "source": [
    "target = np.array([[0],[1],[1],[1]])\n",
    "Qobj(target)"
   ]
  },
  {
   "cell_type": "code",
   "execution_count": 124,
   "metadata": {},
   "outputs": [
    {
     "data": {
      "text/latex": [
       "Quantum object: dims = [[2], [1]], shape = (2, 1), type = ket\\begin{equation*}\\left(\\begin{array}{*{11}c}0.200\\\\0.800\\\\\\end{array}\\right)\\end{equation*}"
      ],
      "text/plain": [
       "Quantum object: dims = [[2], [1]], shape = (2, 1), type = ket\n",
       "Qobj data =\n",
       "[[0.2]\n",
       " [0.8]]"
      ]
     },
     "execution_count": 124,
     "metadata": {},
     "output_type": "execute_result"
    }
   ],
   "source": [
    "start_weights = np.array([[0.2], [0.8]])\n",
    "Qobj(start_weights)"
   ]
  },
  {
   "cell_type": "code",
   "execution_count": 125,
   "metadata": {},
   "outputs": [],
   "source": [
    "def sigmoid(x):\n",
    "    return 1/(1+np.exp(-x))\n",
    "def sigmoid_prime(x):\n",
    "    return sigmoid(x)*(1-sigmoid(x))\n",
    "def activation(x):\n",
    "    return sigmoid(x)\n",
    "def activation_prime(x):\n",
    "    \n",
    "    return sigmoid_prime(x)"
   ]
  },
  {
   "cell_type": "code",
   "execution_count": 128,
   "metadata": {},
   "outputs": [],
   "source": [
    "n_iters = 10000"
   ]
  },
  {
   "cell_type": "code",
   "execution_count": 129,
   "metadata": {
    "scrolled": true
   },
   "outputs": [
    {
     "name": "stdout",
     "output_type": "stream",
     "text": [
      "Epoch:9999 W1:  (0, 0)\t(39.99879389040163+0j) W2:  (0, 0)\t(39.998793890403+0j) B:[[-38.51073551+0.j]].j]]\r"
     ]
    }
   ],
   "source": [
    "##\n",
    "weights = start_weights\n",
    "bias = 0.5\n",
    "lr = 0.10\n",
    "results = []\n",
    "for epoch in range(n_iters):\n",
    "    inputs = Qobj(data)\n",
    "    #print(inputs)\n",
    "    in_o = inputs * Qobj(weights) + bias\n",
    "    #print(in_o)\n",
    "    out_o = Qobj(activation(in_o))\n",
    "    #print(out_o)\n",
    "    error = out_o - Qobj(target)\n",
    "    x = sum(error)\n",
    "    #print(x)\n",
    "\n",
    "    derror_douto = error\n",
    "\n",
    "    douto_dino = Qobj(activation_prime(out_o))\n",
    "\n",
    "    #print(douto_dino)\n",
    "    #print(derror_douto)\n",
    "    deriv = derror_douto\n",
    "    for r, c in enumerate(deriv):  #does this do a hadamard product/\n",
    "        deriv.data[r] *= douto_dino.data[r]\n",
    "\n",
    "    #print(deriv)\n",
    "\n",
    "    inputs = inputs.trans()\n",
    "    #print(inputs)\n",
    "    deriv_final = inputs * deriv\n",
    "    #print(deriv_final)\n",
    "    test = lr * deriv_final\n",
    "    #print(test)\n",
    "    weights -= lr * deriv_final\n",
    "\n",
    "    for i in deriv:\n",
    "        #print(i)\n",
    "        #print(lr * 1)\n",
    "        bias -= lr * i\n",
    "    print(f'Epoch:{epoch} W1:{weights.data[0]} W2:{weights.data[1]} B:{bias}', end='\\r')\n",
    "    results.append({\n",
    "        'epoch':epoch,\n",
    "        'weight_1': weights.data[0],\n",
    "        'weight_2': weights.data[1],\n",
    "        'bias': bias,\n",
    "    })\n",
    "    #print(f'bias :{bias}')\n",
    "    #deriv_final = inputs * deriv"
   ]
  },
  {
   "cell_type": "code",
   "execution_count": 130,
   "metadata": {},
   "outputs": [
    {
     "data": {
      "text/plain": [
       "array([[-38.51073551+0.j]])"
      ]
     },
     "execution_count": 130,
     "metadata": {},
     "output_type": "execute_result"
    }
   ],
   "source": [
    "bias"
   ]
  },
  {
   "cell_type": "code",
   "execution_count": 131,
   "metadata": {
    "scrolled": false
   },
   "outputs": [
    {
     "data": {
      "image/png": "[encoded data removed]",
      "text/plain": [
       "<Figure size 1440x720 with 2 Axes>"
      ]
     },
     "metadata": {
      "needs_background": "light"
     },
     "output_type": "display_data"
    }
   ],
   "source": [
    "fig, ax = plt.subplots(nrows=2, ncols=1, figsize=(20,10))\n",
    "p1 = sns.lineplot(x=[x['epoch'] for x in results], y=[x['weight_1'].data[0] for x in results], c='red',ax=ax[0])\n",
    "p2 = sns.lineplot(x=[x['epoch'] for x in results], y=[x['weight_2'].data[0] for x in results], c='blue', ax=ax[0])\n",
    "p3 = sns.lineplot(x=[x['epoch'] for x in results], y=[x['bias'][0][0] for x in results], c='green', ax=ax[1])\n"
   ]
  },
  {
   "cell_type": "code",
   "execution_count": 93,
   "metadata": {},
   "outputs": [
    {
     "data": {
      "text/plain": [
       "(-38.51073551158072+0j)"
      ]
     },
     "execution_count": 93,
     "metadata": {},
     "output_type": "execute_result"
    }
   ],
   "source": [
    "results[0]['bias'][0][0]"
   ]
  },
  {
   "cell_type": "code",
   "execution_count": 35,
   "metadata": {},
   "outputs": [
    {
     "name": "stdout",
     "output_type": "stream",
     "text": [
      "  (0, 0)\t(39.99879389040163+0j)\n",
      "  (1, 0)\t(39.998793890403+0j)\n"
     ]
    }
   ],
   "source": [
    "print(weights.data)"
   ]
  },
  {
   "cell_type": "markdown",
   "metadata": {},
   "source": [
    "Make predictions:"
   ]
  },
  {
   "cell_type": "code",
   "execution_count": 67,
   "metadata": {},
   "outputs": [],
   "source": [
    "inputs = Qobj(np.array([1,1]))"
   ]
  },
  {
   "cell_type": "code",
   "execution_count": 68,
   "metadata": {},
   "outputs": [
    {
     "data": {
      "text/latex": [
       "Quantum object: dims = [[1], [2]], shape = (1, 2), type = bra\\begin{equation*}\\left(\\begin{array}{*{11}c}1.0 & 1.0\\\\\\end{array}\\right)\\end{equation*}"
      ],
      "text/plain": [
       "Quantum object: dims = [[1], [2]], shape = (1, 2), type = bra\n",
       "Qobj data =\n",
       "[[1. 1.]]"
      ]
     },
     "execution_count": 68,
     "metadata": {},
     "output_type": "execute_result"
    }
   ],
   "source": [
    "inputs.trans()"
   ]
  },
  {
   "cell_type": "code",
   "execution_count": 69,
   "metadata": {},
   "outputs": [],
   "source": [
    "result = inputs.trans() * weights + bias"
   ]
  },
  {
   "cell_type": "code",
   "execution_count": 70,
   "metadata": {},
   "outputs": [
    {
     "data": {
      "text/plain": [
       "array([[1.+0.j]])"
      ]
     },
     "execution_count": 70,
     "metadata": {},
     "output_type": "execute_result"
    }
   ],
   "source": [
    "activation(result)"
   ]
  },
  {
   "cell_type": "code",
   "execution_count": 71,
   "metadata": {},
   "outputs": [],
   "source": [
    "inputs = Qobj(np.array([0,0]))"
   ]
  },
  {
   "cell_type": "code",
   "execution_count": 72,
   "metadata": {},
   "outputs": [],
   "source": [
    "result = inputs.trans() * weights + bias"
   ]
  },
  {
   "cell_type": "code",
   "execution_count": 73,
   "metadata": {},
   "outputs": [
    {
     "data": {
      "text/plain": [
       "array([[1.88364941e-17+0.j]])"
      ]
     },
     "execution_count": 73,
     "metadata": {},
     "output_type": "execute_result"
    }
   ],
   "source": [
    "activation(result)"
   ]
  },
  {
   "cell_type": "code",
   "execution_count": 74,
   "metadata": {},
   "outputs": [],
   "source": [
    "inputs = Qobj(np.array([0,1]))"
   ]
  },
  {
   "cell_type": "code",
   "execution_count": 75,
   "metadata": {},
   "outputs": [],
   "source": [
    "result = inputs.trans() * weights + bias"
   ]
  },
  {
   "cell_type": "code",
   "execution_count": 76,
   "metadata": {},
   "outputs": [
    {
     "data": {
      "text/plain": [
       "array([[0.81578667+0.j]])"
      ]
     },
     "execution_count": 76,
     "metadata": {},
     "output_type": "execute_result"
    }
   ],
   "source": [
    "activation(result)"
   ]
  },
  {
   "cell_type": "code",
   "execution_count": 77,
   "metadata": {},
   "outputs": [],
   "source": [
    "inputs = Qobj(np.array([1,0]))"
   ]
  },
  {
   "cell_type": "code",
   "execution_count": 78,
   "metadata": {},
   "outputs": [],
   "source": [
    "result = inputs.trans() * weights + bias"
   ]
  },
  {
   "cell_type": "code",
   "execution_count": 79,
   "metadata": {},
   "outputs": [
    {
     "data": {
      "text/plain": [
       "array([[0.81578667+0.j]])"
      ]
     },
     "execution_count": 79,
     "metadata": {},
     "output_type": "execute_result"
    }
   ],
   "source": [
    "activation(result)"
   ]
  },
  {
   "cell_type": "code",
   "execution_count": null,
   "metadata": {},
   "outputs": [],
   "source": []
  }
 ],
 "metadata": {
  "hide_input": false,
  "kernelspec": {
   "display_name": "Python 3",
   "language": "python",
   "name": "python3"
  },
  "language_info": {
   "codemirror_mode": {
    "name": "ipython",
    "version": 3
   },
   "file_extension": ".py",
   "mimetype": "text/x-python",
   "name": "python",
   "nbconvert_exporter": "python",
   "pygments_lexer": "ipython3",
   "version": "3.7.0"
  },
  "latex_envs": {
   "LaTeX_envs_menu_present": true,
   "autoclose": false,
   "autocomplete": true,
   "bibliofile": "biblio.bib",
   "cite_by": "apalike",
   "current_citInitial": 1,
   "eqLabelWithNumbers": true,
   "eqNumInitial": 1,
   "hotkeys": {
    "equation": "Ctrl-E",
    "itemize": "Ctrl-I"
   },
   "labels_anchors": false,
   "latex_user_defs": false,
   "report_style_numbering": false,
   "user_envs_cfg": false
  }
 },
 "nbformat": 4,
 "nbformat_minor": 4
}
